{
 "cells": [
  {
   "cell_type": "code",
   "execution_count": 1,
   "metadata": {
    "collapsed": false,
    "scrolled": true
   },
   "outputs": [],
   "source": [
    "import os\n",
    "import pandas as pd\n",
    "import numpy as np\n",
    "import scipy as sp\n",
    "from scipy import signal\n",
    "from ml_time_series import generate_envelope\n",
    "import timeit\n",
    "from sklearn.externals import joblib"
   ]
  },
  {
   "cell_type": "code",
   "execution_count": null,
   "metadata": {
    "collapsed": true
   },
   "outputs": [],
   "source": []
  },
  {
   "cell_type": "markdown",
   "metadata": {},
   "source": [
    "---\n",
    "# Processing\n",
    "---"
   ]
  },
  {
   "cell_type": "code",
   "execution_count": 26,
   "metadata": {
    "collapsed": false
   },
   "outputs": [],
   "source": [
    "def proccess_data(FILE_,DATA,NUM_SAMPLES,LABEL):\n",
    "\n",
    "    Xc = np.genfromtxt('DB_GAIT/'+FILE_+'.txt', delimiter=\",\", usecols=(1,2,3,4))\n",
    "    \n",
    "    print '\\nXc shape ', Xc.shape\n",
    "    \n",
    "    #Create temporal serie\n",
    "    Xc = generate_envelope(Xc, NUM_SAMPLES)\n",
    "    print 'Xc temporal-serie shape ', Xc.shape\n",
    "    \n",
    "    #Labeling the type of movement\n",
    "    C = (np.ones(len(Xc))*LABEL).reshape((len(Xc),1))\n",
    "    Xc = np.hstack((Xc.reshape(Xc.shape),C.reshape((len(Xc),1))))\n",
    "    print 'Xc labeled shape ', Xc.shape\n",
    "    \n",
    "    # Salving in file on the folder <classifier_data>\n",
    "    np.save('./preprocessed_data/'+FILE_, Xc, allow_pickle=False)\n",
    "    print FILE_+'.npy'\n",
    "    \n",
    "    DATA.append(FILE_+'.npy')"
   ]
  },
  {
   "cell_type": "code",
   "execution_count": 27,
   "metadata": {
    "collapsed": false
   },
   "outputs": [
    {
     "name": "stdout",
     "output_type": "stream",
     "text": [
      "\n",
      "Xc shape  (5001, 4)\n",
      "Xc temporal-serie shape  (4502, 2000)\n",
      "Xc labeled shape  (4502, 2001)\n",
      "data_w_1.npy\n",
      "\n",
      "Xc shape  (5001, 4)\n",
      "Xc temporal-serie shape  (4502, 2000)\n",
      "Xc labeled shape  (4502, 2001)\n",
      "data_w_2.npy\n",
      "\n",
      "Xc shape  (5001, 4)\n",
      "Xc temporal-serie shape  (4502, 2000)\n",
      "Xc labeled shape  (4502, 2001)\n",
      "data_w_3.npy\n",
      "\n",
      "Xc shape  (6001, 4)\n",
      "Xc temporal-serie shape  (5502, 2000)\n",
      "Xc labeled shape  (5502, 2001)\n",
      "data_w_4.npy\n",
      "\n",
      "Xc shape  (5001, 4)\n",
      "Xc temporal-serie shape  (4502, 2000)\n",
      "Xc labeled shape  (4502, 2001)\n",
      "data_w_5.npy\n",
      "\n",
      "Xc shape  (6001, 4)\n",
      "Xc temporal-serie shape  (5502, 2000)\n",
      "Xc labeled shape  (5502, 2001)\n",
      "data_w_6.npy\n",
      "\n",
      "Xc shape  (5001, 4)\n",
      "Xc temporal-serie shape  (4502, 2000)\n",
      "Xc labeled shape  (4502, 2001)\n",
      "data_w_7.npy\n",
      "\n",
      "Xc shape  (5001, 4)\n",
      "Xc temporal-serie shape  (4502, 2000)\n",
      "Xc labeled shape  (4502, 2001)\n",
      "data_w_8.npy\n",
      "\n",
      "Xc shape  (5001, 4)\n",
      "Xc temporal-serie shape  (4502, 2000)\n",
      "Xc labeled shape  (4502, 2001)\n",
      "data_w_9.npy\n",
      "\n",
      "Xc shape  (5001, 4)\n",
      "Xc temporal-serie shape  (4502, 2000)\n",
      "Xc labeled shape  (4502, 2001)\n",
      "data_w_10.npy\n",
      "\n",
      "Xc shape  (6001, 4)\n",
      "Xc temporal-serie shape  (5502, 2000)\n",
      "Xc labeled shape  (5502, 2001)\n",
      "data_w_11.npy\n",
      "\n",
      "Xc shape  (6001, 4)\n",
      "Xc temporal-serie shape  (5502, 2000)\n",
      "Xc labeled shape  (5502, 2001)\n",
      "data_w_12.npy\n",
      "\n",
      "Xc shape  (5001, 4)\n",
      "Xc temporal-serie shape  (4502, 2000)\n",
      "Xc labeled shape  (4502, 2001)\n",
      "data_r_1.npy\n",
      "\n",
      "Xc shape  (5001, 4)\n",
      "Xc temporal-serie shape  (4502, 2000)\n",
      "Xc labeled shape  (4502, 2001)\n",
      "data_r_2.npy\n",
      "\n",
      "Xc shape  (5001, 4)\n",
      "Xc temporal-serie shape  (4502, 2000)\n",
      "Xc labeled shape  (4502, 2001)\n",
      "data_r_3.npy\n",
      "\n",
      "Xc shape  (6001, 4)\n",
      "Xc temporal-serie shape  (5502, 2000)\n",
      "Xc labeled shape  (5502, 2001)\n",
      "data_r_4.npy\n",
      "\n",
      "Xc shape  (5001, 4)\n",
      "Xc temporal-serie shape  (4502, 2000)\n",
      "Xc labeled shape  (4502, 2001)\n",
      "data_r_5.npy\n",
      "\n",
      "Xc shape  (6001, 4)\n",
      "Xc temporal-serie shape  (5502, 2000)\n",
      "Xc labeled shape  (5502, 2001)\n",
      "data_r_6.npy\n",
      "\n",
      "Xc shape  (5001, 4)\n",
      "Xc temporal-serie shape  (4502, 2000)\n",
      "Xc labeled shape  (4502, 2001)\n",
      "data_r_7.npy\n",
      "\n",
      "Xc shape  (5001, 4)\n",
      "Xc temporal-serie shape  (4502, 2000)\n",
      "Xc labeled shape  (4502, 2001)\n",
      "data_r_8.npy\n",
      "\n",
      "Xc shape  (5001, 4)\n",
      "Xc temporal-serie shape  (4502, 2000)\n",
      "Xc labeled shape  (4502, 2001)\n",
      "data_r_9.npy\n",
      "\n",
      "Xc shape  (5001, 4)\n",
      "Xc temporal-serie shape  (4502, 2000)\n",
      "Xc labeled shape  (4502, 2001)\n",
      "data_r_10.npy\n",
      "\n",
      "Xc shape  (5001, 4)\n",
      "Xc temporal-serie shape  (4502, 2000)\n",
      "Xc labeled shape  (4502, 2001)\n",
      "data_r_11.npy\n",
      "\n",
      "Xc shape  (5001, 4)\n",
      "Xc temporal-serie shape  (4502, 2000)\n",
      "Xc labeled shape  (4502, 2001)\n",
      "data_r_12.npy\n",
      "\n",
      "Xc shape  (5001, 4)\n",
      "Xc temporal-serie shape  (4502, 2000)\n",
      "Xc labeled shape  (4502, 2001)\n",
      "data_us_1.npy\n",
      "\n",
      "Xc shape  (5001, 4)\n",
      "Xc temporal-serie shape  (4502, 2000)\n",
      "Xc labeled shape  (4502, 2001)\n",
      "data_us_2.npy\n",
      "\n",
      "Xc shape  (5001, 4)\n",
      "Xc temporal-serie shape  (4502, 2000)\n",
      "Xc labeled shape  (4502, 2001)\n",
      "data_us_3.npy\n",
      "\n",
      "Xc shape  (6001, 4)\n",
      "Xc temporal-serie shape  (5502, 2000)\n",
      "Xc labeled shape  (5502, 2001)\n",
      "data_us_4.npy\n",
      "\n",
      "Xc shape  (5001, 4)\n",
      "Xc temporal-serie shape  (4502, 2000)\n",
      "Xc labeled shape  (4502, 2001)\n",
      "data_us_5.npy\n",
      "\n",
      "Xc shape  (6001, 4)\n",
      "Xc temporal-serie shape  (5502, 2000)\n",
      "Xc labeled shape  (5502, 2001)\n",
      "data_us_6.npy\n",
      "\n",
      "Xc shape  (5001, 4)\n",
      "Xc temporal-serie shape  (4502, 2000)\n",
      "Xc labeled shape  (4502, 2001)\n",
      "data_us_7.npy\n",
      "\n",
      "Xc shape  (5001, 4)\n",
      "Xc temporal-serie shape  (4502, 2000)\n",
      "Xc labeled shape  (4502, 2001)\n",
      "data_us_8.npy\n",
      "\n",
      "Xc shape  (5001, 4)\n",
      "Xc temporal-serie shape  (4502, 2000)\n",
      "Xc labeled shape  (4502, 2001)\n",
      "data_us_9.npy\n",
      "\n",
      "Xc shape  (6001, 4)\n",
      "Xc temporal-serie shape  (5502, 2000)\n",
      "Xc labeled shape  (5502, 2001)\n",
      "data_us_10.npy\n",
      "\n",
      "Xc shape  (6001, 4)\n",
      "Xc temporal-serie shape  (5502, 2000)\n",
      "Xc labeled shape  (5502, 2001)\n",
      "data_us_11.npy\n",
      "\n",
      "Xc shape  (6001, 4)\n",
      "Xc temporal-serie shape  (5502, 2000)\n",
      "Xc labeled shape  (5502, 2001)\n",
      "data_us_12.npy\n",
      "\n",
      "Xc shape  (5001, 4)\n",
      "Xc temporal-serie shape  (4502, 2000)\n",
      "Xc labeled shape  (4502, 2001)\n",
      "data_ds_1.npy\n",
      "\n",
      "Xc shape  (5001, 4)\n",
      "Xc temporal-serie shape  (4502, 2000)\n",
      "Xc labeled shape  (4502, 2001)\n",
      "data_ds_2.npy\n",
      "\n",
      "Xc shape  (5001, 4)\n",
      "Xc temporal-serie shape  (4502, 2000)\n",
      "Xc labeled shape  (4502, 2001)\n",
      "data_ds_3.npy\n",
      "\n",
      "Xc shape  (6001, 4)\n",
      "Xc temporal-serie shape  (5502, 2000)\n",
      "Xc labeled shape  (5502, 2001)\n",
      "data_ds_4.npy\n",
      "\n",
      "Xc shape  (5001, 4)\n",
      "Xc temporal-serie shape  (4502, 2000)\n",
      "Xc labeled shape  (4502, 2001)\n",
      "data_ds_5.npy\n",
      "\n",
      "Xc shape  (6001, 4)\n",
      "Xc temporal-serie shape  (5502, 2000)\n",
      "Xc labeled shape  (5502, 2001)\n",
      "data_ds_6.npy\n",
      "\n",
      "Xc shape  (5001, 4)\n",
      "Xc temporal-serie shape  (4502, 2000)\n",
      "Xc labeled shape  (4502, 2001)\n",
      "data_ds_7.npy\n",
      "\n",
      "Xc shape  (5001, 4)\n",
      "Xc temporal-serie shape  (4502, 2000)\n",
      "Xc labeled shape  (4502, 2001)\n",
      "data_ds_8.npy\n",
      "\n",
      "Xc shape  (5001, 4)\n",
      "Xc temporal-serie shape  (4502, 2000)\n",
      "Xc labeled shape  (4502, 2001)\n",
      "data_ds_9.npy\n",
      "\n",
      "Xc shape  (5001, 4)\n",
      "Xc temporal-serie shape  (4502, 2000)\n",
      "Xc labeled shape  (4502, 2001)\n",
      "data_ds_10.npy\n",
      "\n",
      "Xc shape  (6001, 4)\n",
      "Xc temporal-serie shape  (5502, 2000)\n",
      "Xc labeled shape  (5502, 2001)\n",
      "data_ds_11.npy\n",
      "\n",
      "Xc shape  (6001, 4)\n",
      "Xc temporal-serie shape  (5502, 2000)\n",
      "Xc labeled shape  (5502, 2001)\n",
      "data_ds_12.npy\n",
      "['data_w_1.npy', 'data_w_2.npy', 'data_w_3.npy', 'data_w_4.npy', 'data_w_5.npy', 'data_w_6.npy', 'data_w_7.npy', 'data_w_8.npy', 'data_w_9.npy', 'data_w_10.npy', 'data_w_11.npy', 'data_w_12.npy', 'data_r_1.npy', 'data_r_2.npy', 'data_r_3.npy', 'data_r_4.npy', 'data_r_5.npy', 'data_r_6.npy', 'data_r_7.npy', 'data_r_8.npy', 'data_r_9.npy', 'data_r_10.npy', 'data_r_11.npy', 'data_r_12.npy', 'data_us_1.npy', 'data_us_2.npy', 'data_us_3.npy', 'data_us_4.npy', 'data_us_5.npy', 'data_us_6.npy', 'data_us_7.npy', 'data_us_8.npy', 'data_us_9.npy', 'data_us_10.npy', 'data_us_11.npy', 'data_us_12.npy', 'data_ds_1.npy', 'data_ds_2.npy', 'data_ds_3.npy', 'data_ds_4.npy', 'data_ds_5.npy', 'data_ds_6.npy', 'data_ds_7.npy', 'data_ds_8.npy', 'data_ds_9.npy', 'data_ds_10.npy', 'data_ds_11.npy', 'data_ds_12.npy']\n",
      "Tempo total para o envelopamento: 32.33 min\n"
     ]
    }
   ],
   "source": [
    "files_w = ['data_w_1', 'data_w_2', 'data_w_3', 'data_w_4', 'data_w_5', 'data_w_6', 'data_w_7', 'data_w_8', 'data_w_9', \n",
    "           'data_w_10', 'data_w_11', 'data_w_12']\n",
    "files_r = ['data_r_1', 'data_r_2', 'data_r_3', 'data_r_4', 'data_r_5', 'data_r_6', 'data_r_7', 'data_r_8', 'data_r_9', \n",
    "           'data_r_10', 'data_r_11', 'data_r_12']\n",
    "files_us = ['data_us_1', 'data_us_2', 'data_us_3', 'data_us_4', 'data_us_5', 'data_us_6', 'data_us_7', 'data_us_8', \n",
    "            'data_us_9', 'data_us_10', 'data_us_11', 'data_us_12']\n",
    "files_ds = ['data_ds_1', 'data_ds_2', 'data_ds_3', 'data_ds_4', 'data_ds_5', 'data_ds_6', 'data_ds_7', 'data_ds_8', \n",
    "            'data_ds_9', 'data_ds_10', 'data_ds_11', 'data_ds_12']\n",
    "\n",
    "NUM_SAMPLES = 500\n",
    "\n",
    "DATA = []\n",
    "\n",
    "start = timeit.default_timer()\n",
    "\n",
    "for i in files_w:\n",
    "    proccess_data(i,DATA,NUM_SAMPLES,0)\n",
    "\n",
    "for i in files_r:\n",
    "    proccess_data(i,DATA,NUM_SAMPLES,1)\n",
    "\n",
    "for i in files_us:\n",
    "    proccess_data(i,DATA,NUM_SAMPLES,2)\n",
    "\n",
    "for i in files_ds:\n",
    "    proccess_data(i,DATA,NUM_SAMPLES,3)\n",
    "\n",
    "print DATA\n",
    "\n",
    "stop = timeit.default_timer()\n",
    "\n",
    "ti = stop - start \n",
    "print ('Tempo total para o envelopamento: %.2f min' % (ti/60))"
   ]
  },
  {
   "cell_type": "code",
   "execution_count": 38,
   "metadata": {
    "collapsed": true
   },
   "outputs": [],
   "source": [
    "%%bash\n",
    "paplay /usr/share/sounds/freedesktop/stereo/complete.oga"
   ]
  },
  {
   "cell_type": "markdown",
   "metadata": {},
   "source": [
    "['data_w_1.npy', 'data_w_2.npy', 'data_w_3.npy', 'data_w_4.npy', 'data_w_5.npy', 'data_w_6.npy', 'data_w_7.npy', 'data_w_8.npy', 'data_w_9.npy', 'data_w_10.npy', 'data_w_11.npy', 'data_w_12.npy', 'data_r_1.npy', 'data_r_2.npy', 'data_r_3.npy', 'data_r_4.npy', 'data_r_5.npy', 'data_r_6.npy', 'data_r_7.npy', 'data_r_8.npy', 'data_r_9.npy', 'data_r_10.npy', 'data_r_11.npy', 'data_r_12.npy', 'data_us_1.npy', 'data_us_2.npy', 'data_us_3.npy', 'data_us_4.npy', 'data_us_5.npy', 'data_us_6.npy', 'data_us_7.npy', 'data_us_8.npy', 'data_us_9.npy', 'data_us_10.npy', 'data_us_11.npy', 'data_us_12.npy', 'data_ds_1.npy', 'data_ds_2.npy', 'data_ds_3.npy', 'data_ds_4.npy', 'data_ds_5.npy', 'data_ds_6.npy', 'data_ds_7.npy', 'data_ds_8.npy', 'data_ds_9.npy', 'data_ds_10.npy', 'data_ds_11.npy', 'data_ds_12.npy']"
   ]
  },
  {
   "cell_type": "code",
   "execution_count": 2,
   "metadata": {
    "collapsed": false
   },
   "outputs": [
    {
     "data": {
      "text/plain": [
       "28"
      ]
     },
     "execution_count": 2,
     "metadata": {},
     "output_type": "execute_result"
    }
   ],
   "source": [
    "DATA = ['data_w_1.npy', 'data_w_2.npy', 'data_w_3.npy', 'data_w_4.npy', 'data_w_5.npy', 'data_w_6.npy', \n",
    "        'data_w_7.npy',  \n",
    "        'data_r_1.npy', 'data_r_2.npy', 'data_r_3.npy', 'data_r_4.npy', 'data_r_5.npy', 'data_r_6.npy', \n",
    "        'data_r_7.npy', \n",
    "        'data_us_1.npy', 'data_us_2.npy', 'data_us_3.npy', 'data_us_4.npy', 'data_us_5.npy', 'data_us_6.npy', \n",
    "        'data_us_7.npy',  \n",
    "        'data_ds_1.npy', 'data_ds_2.npy', 'data_ds_3.npy', 'data_ds_4.npy', 'data_ds_5.npy', 'data_ds_6.npy', \n",
    "        'data_ds_7.npy']\n",
    "\n",
    "len(DATA)"
   ]
  },
  {
   "cell_type": "code",
   "execution_count": 2,
   "metadata": {
    "collapsed": true
   },
   "outputs": [],
   "source": [
    "DATA = ['data_w_1.npy', 'data_w_2.npy', 'data_w_3.npy', 'data_w_4.npy', 'data_w_5.npy', 'data_w_6.npy', 'data_w_7.npy', 'data_w_8.npy', 'data_w_9.npy', 'data_w_10.npy', 'data_w_11.npy', 'data_w_12.npy', 'data_r_1.npy', 'data_r_2.npy', 'data_r_3.npy', 'data_r_4.npy', 'data_r_5.npy', 'data_r_6.npy', 'data_r_7.npy', 'data_r_8.npy', 'data_r_9.npy', 'data_r_10.npy', 'data_r_11.npy', 'data_r_12.npy', 'data_us_1.npy', 'data_us_2.npy', 'data_us_3.npy', 'data_us_4.npy', 'data_us_5.npy', 'data_us_6.npy', 'data_us_7.npy', 'data_us_8.npy', 'data_us_9.npy', 'data_us_10.npy', 'data_us_11.npy', 'data_us_12.npy', 'data_ds_1.npy', 'data_ds_2.npy', 'data_ds_3.npy', 'data_ds_4.npy', 'data_ds_5.npy', 'data_ds_6.npy', 'data_ds_7.npy', 'data_ds_8.npy', 'data_ds_9.npy', 'data_ds_10.npy', 'data_ds_11.npy', 'data_ds_12.npy']\n"
   ]
  },
  {
   "cell_type": "code",
   "execution_count": 3,
   "metadata": {
    "collapsed": false,
    "scrolled": false
   },
   "outputs": [
    {
     "name": "stdout",
     "output_type": "stream",
     "text": [
      "Tempo total para o envelopamento: 0.54 min\n"
     ]
    },
    {
     "data": {
      "text/plain": [
       "(231096, 2001)"
      ]
     },
     "execution_count": 3,
     "metadata": {},
     "output_type": "execute_result"
    }
   ],
   "source": [
    "start = timeit.default_timer()\n",
    "\n",
    "Xc = np.load(\"preprocessed_data/\"+DATA[0])\n",
    "for i in DATA[1:]:\n",
    "    Xc = np.vstack((Xc,np.load(\"preprocessed_data/\"+i))) \n",
    "    \n",
    "stop = timeit.default_timer()\n",
    "ti = stop - start \n",
    "print ('Tempo total para o envelopamento: %.2f min' % (ti/60))\n",
    "Xc.shape"
   ]
  },
  {
   "cell_type": "markdown",
   "metadata": {
    "collapsed": false
   },
   "source": [
    "save_it_now(Xc, './preprocessed_data/vstack1.data')"
   ]
  },
  {
   "cell_type": "markdown",
   "metadata": {
    "collapsed": false
   },
   "source": [
    "start = timeit.default_timer()\n",
    "\n",
    "for i in DATA[30:]:\n",
    "    Xc = np.vstack((Xc,load_file(\"preprocessed_data/\"+i))) \n",
    "    \n",
    "stop = timeit.default_timer()\n",
    "ti = stop - start \n",
    "print ('Tempo total para o envelopamento: %.2f min' % (ti/60))\n",
    "\n",
    "Xc.shape"
   ]
  },
  {
   "cell_type": "code",
   "execution_count": 4,
   "metadata": {
    "collapsed": false
   },
   "outputs": [
    {
     "data": {
      "text/plain": [
       "(231096, 2001)"
      ]
     },
     "execution_count": 4,
     "metadata": {},
     "output_type": "execute_result"
    }
   ],
   "source": [
    "Xc.shape"
   ]
  },
  {
   "cell_type": "code",
   "execution_count": 5,
   "metadata": {
    "collapsed": false
   },
   "outputs": [
    {
     "data": {
      "text/plain": [
       "((231096, 1999), (231096,))"
      ]
     },
     "execution_count": 5,
     "metadata": {},
     "output_type": "execute_result"
    }
   ],
   "source": [
    "X = Xc[:,0:(Xc.shape[1]-2)]\n",
    "\n",
    "yz = Xc[:,[(Xc.shape[1]-1)]]\n",
    "y = np.array([])\n",
    "for i in range(len(yz)):\n",
    "    y = np.hstack((y,yz[i]))\n",
    "\n",
    "X.shape, y.shape"
   ]
  },
  {
   "cell_type": "code",
   "execution_count": 6,
   "metadata": {
    "collapsed": false,
    "scrolled": true
   },
   "outputs": [],
   "source": [
    "from sklearn.model_selection import train_test_split\n",
    "X_train, X_test, y_train, y_test = train_test_split(X, y, test_size=0.3, \n",
    "                                                    random_state=10)"
   ]
  },
  {
   "cell_type": "code",
   "execution_count": 8,
   "metadata": {
    "collapsed": false
   },
   "outputs": [],
   "source": [
    "from sklearn.preprocessing import StandardScaler\n",
    "sc = StandardScaler()\n",
    "sc.fit(X_train)\n",
    "X_train_std = sc.transform(X_train)\n",
    "X_test_std = sc.transform(X_test)"
   ]
  },
  {
   "cell_type": "code",
   "execution_count": 9,
   "metadata": {
    "collapsed": false
   },
   "outputs": [
    {
     "name": "stdout",
     "output_type": "stream",
     "text": [
      "(161767, 1999)\n"
     ]
    }
   ],
   "source": [
    "print X_train_std.shape"
   ]
  },
  {
   "cell_type": "markdown",
   "metadata": {},
   "source": [
    "# Random Forest Classifier"
   ]
  },
  {
   "cell_type": "code",
   "execution_count": 10,
   "metadata": {
    "collapsed": false
   },
   "outputs": [
    {
     "name": "stdout",
     "output_type": "stream",
     "text": [
      "Training time\n",
      "CPU times: user 27min 17s, sys: 1.43 s, total: 27min 19s\n",
      "Wall time: 6min 59s\n",
      "\n",
      "Predict time\n",
      "CPU times: user 13.1 s, sys: 396 ms, total: 13.5 s\n",
      "Wall time: 5.6 s\n",
      "\n",
      "ClassifyRF accuracy:---------->94.85 %\n"
     ]
    }
   ],
   "source": [
    "from sklearn.ensemble import RandomForestClassifier\n",
    "rfc = RandomForestClassifier(n_estimators=100, n_jobs = 4)\n",
    "\n",
    "print 'Training time'\n",
    "%time rfc = rfc.fit(X_train_std, y_train)\n",
    "\n",
    "print''\n",
    "\n",
    "print 'Predict time'\n",
    "%time y_pred = rfc.predict(X_test_std)\n",
    "\n",
    "print''\n",
    "\n",
    "from sklearn.metrics import accuracy_score\n",
    "print ('ClassifyRF accuracy:---------->%.2f %%' % (accuracy_score(y_test, y_pred)*100))"
   ]
  },
  {
   "cell_type": "code",
   "execution_count": 11,
   "metadata": {
    "collapsed": false
   },
   "outputs": [
    {
     "data": {
      "text/plain": [
       "['rfc.pkl']"
      ]
     },
     "execution_count": 11,
     "metadata": {},
     "output_type": "execute_result"
    }
   ],
   "source": [
    "#Save the classifier to file\n",
    "joblib.dump(rfc, 'rfc.pkl') \n"
   ]
  },
  {
   "cell_type": "code",
   "execution_count": 7,
   "metadata": {
    "collapsed": false
   },
   "outputs": [],
   "source": [
    "#Load the classifier from file\n",
    "rfc = joblib.load('rfc.pkl')"
   ]
  },
  {
   "cell_type": "markdown",
   "metadata": {},
   "source": [
    "## Validation"
   ]
  },
  {
   "cell_type": "code",
   "execution_count": 34,
   "metadata": {
    "collapsed": false,
    "scrolled": true
   },
   "outputs": [
    {
     "name": "stdout",
     "output_type": "stream",
     "text": [
      "(18008, 1999) (18008,)\n",
      "(18008, 1999)\n"
     ]
    }
   ],
   "source": [
    "DATAV = ['data_w_9.npy', 'data_r_9.npy', 'data_us_9.npy', 'data_ds_9.npy']\n",
    "\n",
    "Xc = np.load(\"preprocessed_data/\"+DATAV[0])\n",
    "for i in DATAV[1:]:\n",
    "    Xc = np.vstack((Xc,np.load(\"preprocessed_data/\"+i)))\n",
    "    \n",
    "Xvalid = Xc[:,0:(Xc.shape[1]-2)]\n",
    "\n",
    "yz = Xc[:,[(Xc.shape[1]-1)]]\n",
    "yvalid = np.array([])\n",
    "for i in range(len(yz)):\n",
    "    yvalid = np.hstack((yvalid,yz[i]))\n",
    "\n",
    "print Xvalid.shape, yvalid.shape\n",
    "\n",
    "from sklearn.preprocessing import StandardScaler\n",
    "sc = StandardScaler()\n",
    "#sc.fit(Xvalid)\n",
    "sc.fit(X_train)\n",
    "X_valid_std = sc.transform(Xvalid)\n",
    "\n",
    "print X_valid_std.shape"
   ]
  },
  {
   "cell_type": "code",
   "execution_count": 35,
   "metadata": {
    "collapsed": false,
    "scrolled": true
   },
   "outputs": [
    {
     "name": "stdout",
     "output_type": "stream",
     "text": [
      "Predict time\n",
      "CPU times: user 1.94 s, sys: 76 ms, total: 2.01 s\n",
      "Wall time: 741 ms\n",
      "\n",
      "ClassifyRF accuracy:---------->36.00 %\n"
     ]
    }
   ],
   "source": [
    "#Validation\n",
    "print 'Predict time'\n",
    "%time y_pred = rfc.predict(X_valid_std)\n",
    "\n",
    "print''\n",
    "\n",
    "from sklearn.metrics import accuracy_score\n",
    "\n",
    "result = ('ClassifyRF accuracy:---------->%.2f %%' % (accuracy_score(y_pred, yvalid)*100))\n",
    "\n",
    "print result"
   ]
  },
  {
   "cell_type": "markdown",
   "metadata": {
    "collapsed": true
   },
   "source": [
    "ClassifyRF 8  accuracy:---------->36.00 %\n",
    "ClassifyRF 9  accuracy:---------->50.07 %\n",
    "ClassifyRF 10 accuracy:---------->60.37 %\n",
    "ClassifyRF 11 accuracy:---------->59.10 %\n",
    "ClassifyRF 12 accuracy:---------->50.10 %"
   ]
  },
  {
   "cell_type": "code",
   "execution_count": null,
   "metadata": {
    "collapsed": true
   },
   "outputs": [],
   "source": []
  }
 ],
 "metadata": {
  "kernelspec": {
   "display_name": "Python 2",
   "language": "python",
   "name": "python2"
  },
  "language_info": {
   "codemirror_mode": {
    "name": "ipython",
    "version": 2
   },
   "file_extension": ".py",
   "mimetype": "text/x-python",
   "name": "python",
   "nbconvert_exporter": "python",
   "pygments_lexer": "ipython2",
   "version": "2.7.13"
  }
 },
 "nbformat": 4,
 "nbformat_minor": 2
}
