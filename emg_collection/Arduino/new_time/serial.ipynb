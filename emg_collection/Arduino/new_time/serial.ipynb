{
 "cells": [
  {
   "cell_type": "code",
   "execution_count": 1,
   "metadata": {
    "collapsed": true
   },
   "outputs": [],
   "source": [
    "import serial\n",
    "import numpy as np\n",
    "import time"
   ]
  },
  {
   "cell_type": "code",
   "execution_count": 56,
   "metadata": {
    "collapsed": false
   },
   "outputs": [],
   "source": [
    "p = serial.Serial(port='/dev/cu.usbserial-A400eLxm5', baudrate=115200,\n",
    "                bytesize=serial.EIGHTBITS, parity=serial.PARITY_NONE)\n"
   ]
  },
  {
   "cell_type": "code",
   "execution_count": 139,
   "metadata": {
    "collapsed": false
   },
   "outputs": [
    {
     "name": "stdout",
     "output_type": "stream",
     "text": [
      "0118\n"
     ]
    }
   ],
   "source": [
    "p.write(\"k\")\n",
    "a = p.read(4)\n",
    "#b = p.read()\n",
    "print a"
   ]
  },
  {
   "cell_type": "code",
   "execution_count": 126,
   "metadata": {
    "collapsed": false
   },
   "outputs": [
    {
     "name": "stdout",
     "output_type": "stream",
     "text": [
      "5\n",
      "5\n",
      "21\n",
      "20\n",
      "1\n"
     ]
    }
   ],
   "source": [
    "print int(a)&0xff\n",
    "print int(a)&0x00ff\n",
    "print (int(a)&0xff)<<2|(int(a)&0xff)>>2\n",
    "print (int(a)&0xff)<<2\n",
    "print (int(a)&0xff)>>2"
   ]
  },
  {
   "cell_type": "code",
   "execution_count": 121,
   "metadata": {
    "collapsed": false
   },
   "outputs": [
    {
     "name": "stdout",
     "output_type": "stream",
     "text": [
      "511\n",
      "510\n",
      "510\n",
      "510\n",
      "510\n",
      "510\n",
      "476\n",
      "477\n",
      "477\n",
      "477\n",
      "476\n",
      "510\n",
      "510\n",
      "510\n",
      "477\n",
      "510\n",
      "510\n",
      "476\n",
      "477\n",
      "477\n",
      "476\n",
      "446\n",
      "477\n",
      "510\n",
      "510\n",
      "510\n",
      "510\n",
      "510\n",
      "476\n",
      "477\n",
      "477\n",
      "477\n",
      "447\n",
      "510\n",
      "510\n",
      "510\n",
      "510\n",
      "510\n",
      "510\n",
      "476\n",
      "477\n",
      "477\n",
      "477\n",
      "476\n",
      "510\n",
      "510\n",
      "510\n",
      "510\n",
      "510\n",
      "511\n",
      "477\n",
      "477\n",
      "477\n",
      "477\n",
      "476\n",
      "510\n",
      "510\n",
      "510\n",
      "477\n",
      "510\n",
      "510\n",
      "476\n",
      "477\n",
      "477\n",
      "477\n",
      "476\n",
      "510\n",
      "510\n",
      "510\n",
      "477\n",
      "510\n",
      "510\n",
      "476\n",
      "477\n",
      "477\n",
      "477\n",
      "476\n",
      "510\n",
      "510\n",
      "510\n",
      "477\n",
      "510\n",
      "510\n",
      "476\n",
      "477\n",
      "477\n",
      "477\n",
      "476\n",
      "510\n",
      "510\n",
      "510\n",
      "510\n",
      "510\n",
      "510\n",
      "476\n",
      "477\n",
      "477\n",
      "477\n",
      "476\n",
      "510\n"
     ]
    }
   ],
   "source": [
    "for i in range(0, 100):\n",
    "    p.write(\"k\")\n",
    "    a = int(p.read(4))\n",
    "    print (a&0xff)<<2|(a&0xff)>>2"
   ]
  },
  {
   "cell_type": "code",
   "execution_count": null,
   "metadata": {
    "collapsed": true
   },
   "outputs": [],
   "source": [
    "p.close()"
   ]
  }
 ],
 "metadata": {
  "anaconda-cloud": {},
  "kernelspec": {
   "display_name": "Python [conda env:mlearning]",
   "language": "python",
   "name": "conda-env-mlearning-py"
  },
  "language_info": {
   "codemirror_mode": {
    "name": "ipython",
    "version": 2
   },
   "file_extension": ".py",
   "mimetype": "text/x-python",
   "name": "python",
   "nbconvert_exporter": "python",
   "pygments_lexer": "ipython2",
   "version": "2.7.12"
  }
 },
 "nbformat": 4,
 "nbformat_minor": 1
}
